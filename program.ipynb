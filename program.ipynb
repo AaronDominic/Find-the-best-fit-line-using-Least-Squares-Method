{
 "cells": [
  {
   "cell_type": "code",
   "execution_count": 1,
   "metadata": {},
   "outputs": [
    {
     "ename": "SyntaxError",
     "evalue": "invalid syntax (<string>, line 0)",
     "output_type": "error",
     "traceback": [
      "Traceback \u001b[0;36m(most recent call last)\u001b[0m:\n",
      "\u001b[0m  File \u001b[1;32m/usr/lib/python3/dist-packages/IPython/core/interactiveshell.py:3508\u001b[0m in \u001b[1;35mrun_code\u001b[0m\n    exec(code_obj, self.user_global_ns, self.user_ns)\u001b[0m\n",
      "\u001b[0;36m  Cell \u001b[0;32mIn[1], line 8\u001b[0;36m\n\u001b[0;31m    X=np.array(eval(input()))\u001b[0;36m\n",
      "\u001b[0;36m  File \u001b[0;32m<string>\u001b[0;36m\u001b[0m\n\u001b[0;31m    \u001b[0m\n\u001b[0m    ^\u001b[0m\n\u001b[0;31mSyntaxError\u001b[0m\u001b[0;31m:\u001b[0m invalid syntax\n"
     ]
    }
   ],
   "source": [
    "# inputs\n",
    "# [0,1,2,3,4,5,6,7,8,9]\n",
    "# [1,3,2,5,7,8,9,11,13]\n",
    "\n",
    "import numpy as np\n",
    "import matplotlib.pyplot as plt\n",
    "\n",
    "X=np.array(eval(input()))\n",
    "Y=np.array(eval(input()))\n",
    "\n",
    "X_mean=np.mean(X)\n",
    "print(X_mean)\n",
    "\n",
    "Y_mean=np.mean(Y)\n",
    "print(Y_mean)\n",
    "\n",
    "num=0\n",
    "denum=0\n",
    "\n",
    "for i in range(len(X)):\n",
    "  num+=(X[i]-X_mean)*(Y[i]-Y_mean)\n",
    "  denum+=(X[i]-X_mean)**2\n",
    "\n",
    "m=num/denum\n",
    "print(m)\n",
    "\n",
    "b=Y_mean - m*X_mean\n",
    "print(b)\n",
    "\n",
    "Y_pred=m*X+b\n",
    "print(Y_pred)\n",
    "\n",
    "plt.scatter(X,Y,color='blue')\n",
    "plt.plot(X,Y_pred,color='yellow') \n",
    "plt.show() "
   ]
  }
 ],
 "metadata": {
  "kernelspec": {
   "display_name": "Python 3",
   "language": "python",
   "name": "python3"
  },
  "language_info": {
   "codemirror_mode": {
    "name": "ipython",
    "version": 3
   },
   "file_extension": ".py",
   "mimetype": "text/x-python",
   "name": "python",
   "nbconvert_exporter": "python",
   "pygments_lexer": "ipython3",
   "version": "3.11.4"
  },
  "orig_nbformat": 4
 },
 "nbformat": 4,
 "nbformat_minor": 2
}
