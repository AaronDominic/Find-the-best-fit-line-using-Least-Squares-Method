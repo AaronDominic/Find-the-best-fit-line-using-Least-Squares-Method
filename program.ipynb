{
 "cells": [
  {
   "cell_type": "code",
   "execution_count": null,
   "metadata": {},
   "outputs": [],
   "source": [
    "# inputs\n",
    "# [0,1,2,3,4,5,6,7,8,9]\n",
    "# [1,3,2,5,7,8,9,11,13]\n",
    "\n",
    "import numpy as np\n",
    "import matplotlib.pyplot as plt\n",
    "\n",
    "X=np.array(eval(input()))\n",
    "Y=np.array(eval(input()))\n",
    "\n",
    "X_mean=np.mean(X)\n",
    "print(X_mean)\n",
    "\n",
    "Y_mean=np.mean(Y)\n",
    "print(Y_mean)\n",
    "\n",
    "num=0\n",
    "denum=0\n",
    "\n",
    "for i in range(len(X)):\n",
    "  num+=(X[i]-X_mean)*(Y[i]-Y_mean)\n",
    "  denum+=(X[i]-X_mean)**2\n",
    "\n",
    "m=num/denum\n",
    "print(m)\n",
    "\n",
    "b=Y_mean - m*X_mean\n",
    "print(b)\n",
    "\n",
    "Y_pred=m*X+b\n",
    "print(Y_pred)\n",
    "\n",
    "plt.scatter(X,Y,color='blue')\n",
    "plt.plot(X,Y_pred,color='yellow') \n",
    "plt.show() "
   ]
  }
 ],
 "metadata": {
  "language_info": {
   "name": "python"
  },
  "orig_nbformat": 4
 },
 "nbformat": 4,
 "nbformat_minor": 2
}
